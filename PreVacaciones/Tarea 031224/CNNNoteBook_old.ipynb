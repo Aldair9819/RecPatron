{
 "cells": [
  {
   "cell_type": "code",
   "execution_count": 15,
   "metadata": {},
   "outputs": [],
   "source": [
    "import tensorflow as tf\n",
    "from tensorflow.keras import layers, models\n",
    "from tensorflow.keras.datasets import mnist\n",
    "from tensorflow.keras.utils import to_categorical\n",
    "import matplotlib.pyplot as plt\n",
    "import numpy as np"
   ]
  },
  {
   "cell_type": "markdown",
   "metadata": {},
   "source": []
  },
  {
   "cell_type": "markdown",
   "metadata": {},
   "source": [
    "1)Carga conjunto de datos MNIST con las imagenes de digitos escritas a mano y sus etiquetas\n",
    "2)Se hace un redimensionado\n",
    "2.1) 6000 es la cantidad de imagenes en el conjunto de entrenamiento\n",
    "2.2) 28,28 son las dimensiones de cada imagen en pixel\n",
    "2.3) 1 es escala de grises\n",
    "2.4)astype('float32') convierte valores de pixeles a numeros flotantes de 32 bits\n",
    "2.5) /255 normaliza los valores dividiendo todo entre 255, el cual es su maximo\n",
    "3) to_categorical convierte las etiquetas en formato de vector binario [0,0,0,1,0,...,0]"
   ]
  },
  {
   "cell_type": "code",
   "execution_count": 16,
   "metadata": {},
   "outputs": [],
   "source": [
    "(train_images, train_labels), (test_images, test_labels) = mnist.load_data()\n",
    "train_images = train_images.reshape((60000, 28, 28, 1)).astype('float32') / 255\n",
    "test_images = test_images.reshape((10000, 28, 28, 1)).astype('float32') / 255\n",
    "\n",
    "train_labels = to_categorical(train_labels)\n",
    "test_labels = to_categorical(test_labels)"
   ]
  },
  {
   "cell_type": "markdown",
   "metadata": {},
   "source": [
    "Muestra del DataSet"
   ]
  },
  {
   "cell_type": "code",
   "execution_count": 17,
   "metadata": {},
   "outputs": [
    {
     "data": {
      "image/png": "[encoded data removed]",
      "text/plain": [
       "<Figure size 640x480 with 1 Axes>"
      ]
     },
     "metadata": {},
     "output_type": "display_data"
    }
   ],
   "source": [
    "\n",
    "\n",
    "# Imprimir una imagen y su etiqueta del conjunto de entrenamiento\n",
    "sample_index = 0  # Puedes cambiar este índice para ver diferentes ejemplos\n",
    "plt.imshow(train_images[sample_index].reshape(28, 28), cmap='gray')\n",
    "plt.title(f'Etiqueta: {train_labels[sample_index].argmax()}')\n",
    "plt.show()\n"
   ]
  },
  {
   "cell_type": "code",
   "execution_count": null,
   "metadata": {},
   "outputs": [],
   "source": []
  },
  {
   "cell_type": "markdown",
   "metadata": {},
   "source": []
  },
  {
   "cell_type": "code",
   "execution_count": 18,
   "metadata": {},
   "outputs": [],
   "source": [
    "model = models.Sequential()\n",
    "model.add(layers.Conv2D(32, (3, 3), activation='relu', input_shape=(28, 28, 1)))\n",
    "model.add(layers.MaxPooling2D((2, 2)))\n",
    "model.add(layers.Conv2D(64, (3, 3), activation='relu'))\n",
    "model.add(layers.MaxPooling2D((2, 2)))\n",
    "model.add(layers.Conv2D(64, (3, 3), activation='relu'))\n",
    "\n",
    "model.add(layers.Flatten())\n",
    "model.add(layers.Dense(64, activation='relu'))\n",
    "model.add(layers.Dense(10, activation='softmax'))"
   ]
  },
  {
   "cell_type": "code",
   "execution_count": 19,
   "metadata": {},
   "outputs": [],
   "source": [
    "model.compile(optimizer='adam',\n",
    "              loss='categorical_crossentropy',\n",
    "              metrics=['accuracy'])"
   ]
  },
  {
   "cell_type": "code",
   "execution_count": 20,
   "metadata": {},
   "outputs": [
    {
     "name": "stdout",
     "output_type": "stream",
     "text": [
      "Epoch 1/5\n",
      "750/750 [==============================] - 8s 10ms/step - loss: 0.2127 - accuracy: 0.9350 - val_loss: 0.0677 - val_accuracy: 0.9788\n",
      "Epoch 2/5\n",
      "750/750 [==============================] - 8s 10ms/step - loss: 0.0549 - accuracy: 0.9825 - val_loss: 0.0496 - val_accuracy: 0.9861\n",
      "Epoch 3/5\n",
      "750/750 [==============================] - 8s 11ms/step - loss: 0.0396 - accuracy: 0.9872 - val_loss: 0.0381 - val_accuracy: 0.9886\n",
      "Epoch 4/5\n",
      "750/750 [==============================] - 8s 11ms/step - loss: 0.0299 - accuracy: 0.9904 - val_loss: 0.0364 - val_accuracy: 0.9891\n",
      "Epoch 5/5\n",
      "750/750 [==============================] - 9s 12ms/step - loss: 0.0263 - accuracy: 0.9915 - val_loss: 0.0421 - val_accuracy: 0.9878\n"
     ]
    },
    {
     "data": {
      "text/plain": [
       "<keras.src.callbacks.History at 0x2319f8cc760>"
      ]
     },
     "execution_count": 20,
     "metadata": {},
     "output_type": "execute_result"
    }
   ],
   "source": [
    "model.fit(train_images, train_labels, epochs=5, batch_size=64, validation_split=0.2)\n"
   ]
  },
  {
   "cell_type": "code",
   "execution_count": 21,
   "metadata": {},
   "outputs": [
    {
     "name": "stdout",
     "output_type": "stream",
     "text": [
      "313/313 [==============================] - 1s 4ms/step - loss: 0.0363 - accuracy: 0.9878\n",
      "Accuracy en datos de prueba: 0.9878000020980835\n"
     ]
    }
   ],
   "source": [
    "test_loss, test_acc = model.evaluate(test_images, test_labels)\n",
    "print(f'Accuracy en datos de prueba: {test_acc}')\n"
   ]
  },
  {
   "cell_type": "code",
   "execution_count": 22,
   "metadata": {},
   "outputs": [
    {
     "name": "stdout",
     "output_type": "stream",
     "text": [
      "1/1 [==============================] - 0s 105ms/step\n"
     ]
    }
   ],
   "source": [
    "# Supongamos que tienes una imagen específica (puedes cargarla o generarla)\n",
    "# Aquí usamos la primera imagen del conjunto de prueba como ejemplo\n",
    "input_image = test_images[0].reshape(1, 28, 28, 1)\n",
    "\n",
    "# Realizar la predicción\n",
    "prediction = model.predict(input_image)\n",
    "\n",
    "# Obtener el índice de la clase predicha\n",
    "predicted_class = np.argmax(prediction)\n"
   ]
  },
  {
   "cell_type": "code",
   "execution_count": 23,
   "metadata": {},
   "outputs": [
    {
     "name": "stdout",
     "output_type": "stream",
     "text": [
      "La red neuronal predice que la imagen es un '7' con probabilidad 1.00\n"
     ]
    }
   ],
   "source": [
    "print(f\"La red neuronal predice que la imagen es un '{predicted_class}' con probabilidad {prediction[0][predicted_class]:.2f}\")"
   ]
  },
  {
   "cell_type": "code",
   "execution_count": 25,
   "metadata": {},
   "outputs": [
    {
     "data": {
      "image/png": "[encoded data removed]",
      "text/plain": [
       "<Figure size 640x480 with 1 Axes>"
      ]
     },
     "metadata": {},
     "output_type": "display_data"
    }
   ],
   "source": [
    "input_image_resize = input_image.reshape(28, 28)\n",
    "plt.imshow(input_image_resize, cmap='gray')\n",
    "plt.title('Imagen de entrada')\n",
    "plt.show()\n"
   ]
  }
 ],
 "metadata": {
  "kernelspec": {
   "display_name": "Python 3",
   "language": "python",
   "name": "python3"
  },
  "language_info": {
   "codemirror_mode": {
    "name": "ipython",
    "version": 3
   },
   "file_extension": ".py",
   "mimetype": "text/x-python",
   "name": "python",
   "nbconvert_exporter": "python",
   "pygments_lexer": "ipython3",
   "version": "3.9.13"
  }
 },
 "nbformat": 4,
 "nbformat_minor": 2
}
