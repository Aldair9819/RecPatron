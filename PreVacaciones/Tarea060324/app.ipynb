{
 "cells": [
  {
   "cell_type": "code",
   "execution_count": 1,
   "metadata": {},
   "outputs": [],
   "source": [
    "import numpy as np"
   ]
  },
  {
   "cell_type": "code",
   "execution_count": 2,
   "metadata": {},
   "outputs": [],
   "source": [
    "def sigmoid(x):\n",
    "    return 1 / (1 + np.exp(-x))\n",
    "\n",
    "def sigmoid_derivative(x):\n",
    "    return x * (1 - x)\n"
   ]
  },
  {
   "cell_type": "code",
   "execution_count": 3,
   "metadata": {},
   "outputs": [],
   "source": [
    "# Función para inicializar los pesos de la red de manera aleatoria\n",
    "def initialize_weights(input_size, hidden_size, output_size):\n",
    "    weights_input_hidden = np.random.rand(input_size, hidden_size)\n",
    "    weights_hidden_output = np.random.rand(hidden_size, output_size)\n",
    "    return weights_input_hidden, weights_hidden_output\n"
   ]
  },
  {
   "cell_type": "code",
   "execution_count": 4,
   "metadata": {},
   "outputs": [],
   "source": [
    "# Función de entrenamiento de la red\n",
    "def train(X, y, learning_rate, epochs):\n",
    "    input_size = X.shape[1]\n",
    "    hidden_size = 4\n",
    "    output_size = 1\n",
    "\n",
    "    weights_input_hidden, weights_hidden_output = initialize_weights(input_size, hidden_size, output_size)\n",
    "\n",
    "    for epoch in range(epochs):\n",
    "        # Capa de entrada a capa oculta\n",
    "        hidden_layer_input = np.dot(X, weights_input_hidden)\n",
    "        hidden_layer_output = sigmoid(hidden_layer_input)\n",
    "\n",
    "        # Capa oculta a capa de salida\n",
    "        output_layer_input = np.dot(hidden_layer_output, weights_hidden_output)\n",
    "        predicted_output = sigmoid(output_layer_input)\n",
    "\n",
    "        # Calcular el error\n",
    "        error = y - predicted_output\n",
    "\n",
    "        # Retropropagación\n",
    "        output_delta = error * sigmoid_derivative(predicted_output)\n",
    "        hidden_layer_error = output_delta.dot(weights_hidden_output.T)\n",
    "        hidden_layer_delta = hidden_layer_error * sigmoid_derivative(hidden_layer_output)\n",
    "\n",
    "        # Actualizar pesos\n",
    "        weights_hidden_output += hidden_layer_output.T.dot(output_delta) * learning_rate\n",
    "        weights_input_hidden += X.T.dot(hidden_layer_delta) * learning_rate\n",
    "\n",
    "    return weights_input_hidden, weights_hidden_output\n"
   ]
  },
  {
   "cell_type": "code",
   "execution_count": 5,
   "metadata": {},
   "outputs": [],
   "source": [
    "# Función de predicción\n",
    "def predict(X, weights_input_hidden, weights_hidden_output):\n",
    "    hidden_layer_input = np.dot(X, weights_input_hidden)\n",
    "    hidden_layer_output = sigmoid(hidden_layer_input)\n",
    "\n",
    "    output_layer_input = np.dot(hidden_layer_output, weights_hidden_output)\n",
    "    predicted_output = sigmoid(output_layer_input)\n",
    "\n",
    "    return predicted_output"
   ]
  },
  {
   "cell_type": "code",
   "execution_count": 6,
   "metadata": {},
   "outputs": [
    {
     "name": "stdout",
     "output_type": "stream",
     "text": [
      "Predicciones:\n",
      "[[0.14130566]\n",
      " [0.88477444]\n",
      " [0.87486304]\n",
      " [0.10866679]]\n"
     ]
    }
   ],
   "source": [
    "# Ejemplo de uso\n",
    "X_train = np.array([[0, 0], [0, 1], [1, 0], [1, 1]])\n",
    "y_train = np.array([[0], [1], [1], [0]])\n",
    "\n",
    "learning_rate = 0.1\n",
    "epochs = 10000\n",
    "\n",
    "trained_weights_input_hidden, trained_weights_hidden_output = train(X_train, y_train, learning_rate, epochs)\n",
    "\n",
    "# Predicción en nuevos datos\n",
    "X_test = np.array([[0, 0], [0, 1], [1, 0], [1, 1]])\n",
    "predictions = predict(X_test, trained_weights_input_hidden, trained_weights_hidden_output)\n",
    "\n",
    "print(\"Predicciones:\")\n",
    "print(predictions)\n"
   ]
  }
 ],
 "metadata": {
  "kernelspec": {
   "display_name": "Python 3",
   "language": "python",
   "name": "python3"
  },
  "language_info": {
   "codemirror_mode": {
    "name": "ipython",
    "version": 3
   },
   "file_extension": ".py",
   "mimetype": "text/x-python",
   "name": "python",
   "nbconvert_exporter": "python",
   "pygments_lexer": "ipython3",
   "version": "3.9.13"
  }
 },
 "nbformat": 4,
 "nbformat_minor": 2
}
