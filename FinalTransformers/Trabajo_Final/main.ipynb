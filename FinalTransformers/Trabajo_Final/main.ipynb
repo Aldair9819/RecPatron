{
 "cells": [
  {
   "cell_type": "code",
   "execution_count": 21,
   "metadata": {},
   "outputs": [],
   "source": [
    "import pandas as pd\n",
    "import numpy as np\n",
    "import ast\n",
    "import torch\n",
    "import torch.nn as nn\n",
    "import torch.optim as optim\n",
    "from sklearn.model_selection import train_test_split\n",
    "from sklearn.preprocessing import StandardScaler, LabelEncoder\n",
    "from torchvision import transforms\n",
    "from torchvision.datasets import ImageFolder\n",
    "from torch.utils.data import DataLoader, Dataset, TensorDataset"
   ]
  },
  {
   "cell_type": "code",
   "execution_count": 22,
   "metadata": {},
   "outputs": [],
   "source": [
    "# Cargar los keypoints, ángulos y las etiquetas\n",
    "df = pd.read_csv(('csvFinal.csv'))\n",
    "\n",
    "keypoints_columns = ['nose', 'left_shoulder', 'right_shoulder', 'left_elbow', 'right_elbow', \n",
    "           'left_wrist', 'right_wrist', 'left_hip', 'right_hip', 'left_knee', \n",
    "           'right_knee', 'left_ankle', 'right_ankle', 'mid_shoulder', 'mid_hip']\n",
    "\n",
    "angle_columns = [col for col in df.columns if 'angle' in col]"
   ]
  },
  {
   "cell_type": "code",
   "execution_count": 23,
   "metadata": {},
   "outputs": [],
   "source": [
    "# Convertir keypoints y ángulos de cadenas a numpy arrays\n",
    "for column in keypoints_columns:\n",
    "    df[column] = df[column].apply(lambda x: np.array(ast.literal_eval(x)))\n",
    "\n",
    "for column in angle_columns:\n",
    "    df[column] = df[column].apply(lambda x: np.array(ast.literal_eval(x)))\n"
   ]
  },
  {
   "cell_type": "code",
   "execution_count": 24,
   "metadata": {},
   "outputs": [],
   "source": [
    "# Normalizar los keypoints\n",
    "scaler = StandardScaler()\n",
    "for column in keypoints_columns:\n",
    "    keypoints = np.stack(df[column].values)\n",
    "    keypoints_normalized = scaler.fit_transform(keypoints)\n",
    "    df[column] = [arr for arr in keypoints_normalized]\n",
    "\n",
    "for column in keypoints_columns[:13]:\n",
    "    df[column] = df[column].apply(lambda x: x[:2])\n"
   ]
  },
  {
   "cell_type": "code",
   "execution_count": 25,
   "metadata": {},
   "outputs": [],
   "source": [
    "# Etiquetas\n",
    "X_keypoints = np.array([df[keypoints_columns].iloc[i].values.tolist() for i in range(len(df))])\n",
    "X_angles = np.array([df[angle_columns].iloc[i].values.tolist() for i in range(len(df))])\n",
    "etiquetas = df['etiqueta'].values\n",
    "label_encoder = LabelEncoder()\n",
    "etiquetas_codificadas = label_encoder.fit_transform(etiquetas)\n",
    "etiquetas_float = etiquetas_codificadas.astype(np.float32)"
   ]
  },
  {
   "cell_type": "code",
   "execution_count": 26,
   "metadata": {},
   "outputs": [],
   "source": [
    "\n",
    "# Transformaciones para las imágenes\n",
    "transform = transforms.Compose([\n",
    "    transforms.Resize((224, 224)),\n",
    "    transforms.ToTensor(),\n",
    "    transforms.Normalize(mean=[0.485, 0.456, 0.406], std=[0.229, 0.224, 0.225]),\n",
    "])"
   ]
  },
  {
   "cell_type": "code",
   "execution_count": 27,
   "metadata": {},
   "outputs": [],
   "source": [
    "# Cargar las imágenes\n",
    "dataset = ImageFolder(root='Dataset_Imagenes', transform=transform)\n",
    "image_loader = DataLoader(dataset, batch_size=32, shuffle=True)\n",
    "\n",
    "# Suponiendo que las imágenes y los keypoints están alineados\n",
    "X_images = np.array([dataset[i][0].numpy() for i in range(len(dataset))])"
   ]
  },
  {
   "cell_type": "code",
   "execution_count": 28,
   "metadata": {},
   "outputs": [
    {
     "name": "stdout",
     "output_type": "stream",
     "text": [
      "Número de muestras de keypoints: 1764\n",
      "Número de muestras de ángulos: 1764\n",
      "Número de muestras de imágenes: 1995\n",
      "Número de muestras de etiquetas: 1764\n"
     ]
    }
   ],
   "source": [
    "# Verificar la cantidad de muestras\n",
    "num_keypoints_samples = len(X_keypoints)\n",
    "num_angle_samples = len(X_angles)\n",
    "num_image_samples = len(X_images)\n",
    "num_label_samples = len(etiquetas_codificadas)\n",
    "\n",
    "print(f'Número de muestras de keypoints: {num_keypoints_samples}')\n",
    "print(f'Número de muestras de ángulos: {num_angle_samples}')\n",
    "print(f'Número de muestras de imágenes: {num_image_samples}')\n",
    "print(f'Número de muestras de etiquetas: {num_label_samples}')\n"
   ]
  },
  {
   "cell_type": "code",
   "execution_count": 29,
   "metadata": {},
   "outputs": [],
   "source": [
    "# Alinear los datos si es necesario\n",
    "min_samples = min(num_keypoints_samples, num_angle_samples, num_image_samples, num_label_samples)\n",
    "\n",
    "X_keypoints = X_keypoints[:min_samples]\n",
    "X_angles = X_angles[:min_samples]\n",
    "X_images = X_images[:min_samples]\n",
    "etiquetas_codificadas = etiquetas_codificadas[:min_samples]"
   ]
  },
  {
   "cell_type": "code",
   "execution_count": 30,
   "metadata": {},
   "outputs": [
    {
     "name": "stdout",
     "output_type": "stream",
     "text": [
      "Número de muestras después de alinear: 1764, 1764, 1764, 1764\n"
     ]
    }
   ],
   "source": [
    "# Verificar nuevamente la cantidad de muestras\n",
    "print(f'Número de muestras después de alinear: {len(X_keypoints)}, {len(X_angles)}, {len(X_images)}, {len(etiquetas_codificadas)}')"
   ]
  },
  {
   "cell_type": "code",
   "execution_count": 31,
   "metadata": {},
   "outputs": [],
   "source": [
    "# Preparar los datos\n",
    "X_train_keypoints, X_test_keypoints, X_train_angles, X_test_angles, y_train, y_test = train_test_split(\n",
    "    X_keypoints, X_angles, etiquetas_codificadas, test_size=0.2, random_state=42)\n",
    "X_train_images, X_test_images, _, _ = train_test_split(X_images, etiquetas_codificadas, test_size=0.2, random_state=42)\n"
   ]
  },
  {
   "cell_type": "code",
   "execution_count": 32,
   "metadata": {},
   "outputs": [],
   "source": [
    "\n",
    "# Transformar los datos a tensores\n",
    "X_train_keypoints = torch.tensor(X_train_keypoints, dtype=torch.float32)\n",
    "X_test_keypoints = torch.tensor(X_test_keypoints, dtype=torch.float32)\n",
    "X_train_angles = torch.tensor(X_train_angles, dtype=torch.float32)\n",
    "X_test_angles = torch.tensor(X_test_angles, dtype=torch.float32)\n",
    "y_train = torch.tensor(y_train, dtype=torch.float32)\n",
    "y_test = torch.tensor(y_test, dtype=torch.float32)\n",
    "X_train_images = torch.tensor(X_train_images, dtype=torch.float32)\n",
    "X_test_images = torch.tensor(X_test_images, dtype=torch.float32)\n"
   ]
  },
  {
   "cell_type": "code",
   "execution_count": 33,
   "metadata": {},
   "outputs": [],
   "source": [
    "# Definir el modelo de codificador de imágenes\n",
    "class ImageEncoder(nn.Module):\n",
    "    def __init__(self):\n",
    "        super(ImageEncoder, self).__init__()\n",
    "        self.cnn = nn.Sequential(\n",
    "            nn.Conv2d(3, 16, kernel_size=3, stride=1, padding=1),\n",
    "            nn.ReLU(),\n",
    "            nn.MaxPool2d(kernel_size=2, stride=2),\n",
    "            nn.Conv2d(16, 32, kernel_size=3, stride=1, padding=1),\n",
    "            nn.ReLU(),\n",
    "            nn.MaxPool2d(kernel_size=2, stride=2),\n",
    "            nn.Conv2d(32, 64, kernel_size=3, stride=1, padding=1),\n",
    "            nn.ReLU(),\n",
    "            nn.MaxPool2d(kernel_size=2, stride=2),\n",
    "            nn.Flatten()\n",
    "        )\n",
    "        self.fc = nn.Linear(64 * 28 * 28, 128)  \n",
    "\n",
    "    def forward(self, x):\n",
    "        x = self.cnn(x)\n",
    "        x = self.fc(x)\n",
    "        return x\n"
   ]
  },
  {
   "cell_type": "code",
   "execution_count": 34,
   "metadata": {},
   "outputs": [],
   "source": [
    "# Definir el modelo combinado\n",
    "class CombinedModel(nn.Module):\n",
    "    def __init__(self, num_keypoints, num_dimensions, num_angles, embed_dim, num_heads, ff_dim, num_classes):\n",
    "        super(CombinedModel, self).__init__()\n",
    "        self.keypoints_encoder = nn.Linear(num_keypoints * num_dimensions, embed_dim)\n",
    "        self.angles_encoder = nn.Linear(num_angles, embed_dim)\n",
    "        self.image_encoder = ImageEncoder()\n",
    "        self.fc_combined = nn.Linear(embed_dim * 2 + 128, embed_dim)\n",
    "        self.transformer_encoder = nn.TransformerEncoder(\n",
    "            nn.TransformerEncoderLayer(d_model=embed_dim, nhead=num_heads, dim_feedforward=ff_dim),\n",
    "            num_layers=1\n",
    "        )\n",
    "        self.fc = nn.Linear(embed_dim, num_classes)\n",
    "\n",
    "    def forward(self, keypoints, angles, images):\n",
    "        keypoints_encoded = self.keypoints_encoder(keypoints.view(keypoints.size(0), -1))\n",
    "        angles_encoded = self.angles_encoder(angles.view(angles.size(0), -1))\n",
    "        images_encoded = self.image_encoder(images)\n",
    "        combined = torch.cat((keypoints_encoded, angles_encoded, images_encoded), dim=1)\n",
    "        combined = self.fc_combined(combined)\n",
    "        combined = combined.unsqueeze(1).transpose(0, 1)\n",
    "        output = self.transformer_encoder(combined)\n",
    "        output = output.squeeze(0)\n",
    "        output = self.fc(output)\n",
    "        return output"
   ]
  },
  {
   "cell_type": "code",
   "execution_count": 35,
   "metadata": {},
   "outputs": [
    {
     "name": "stdout",
     "output_type": "stream",
     "text": [
      "CombinedModel(\n",
      "  (keypoints_encoder): Linear(in_features=30, out_features=32, bias=True)\n",
      "  (angles_encoder): Linear(in_features=9, out_features=32, bias=True)\n",
      "  (image_encoder): ImageEncoder(\n",
      "    (cnn): Sequential(\n",
      "      (0): Conv2d(3, 16, kernel_size=(3, 3), stride=(1, 1), padding=(1, 1))\n",
      "      (1): ReLU()\n",
      "      (2): MaxPool2d(kernel_size=2, stride=2, padding=0, dilation=1, ceil_mode=False)\n",
      "      (3): Conv2d(16, 32, kernel_size=(3, 3), stride=(1, 1), padding=(1, 1))\n",
      "      (4): ReLU()\n",
      "      (5): MaxPool2d(kernel_size=2, stride=2, padding=0, dilation=1, ceil_mode=False)\n",
      "      (6): Conv2d(32, 64, kernel_size=(3, 3), stride=(1, 1), padding=(1, 1))\n",
      "      (7): ReLU()\n",
      "      (8): MaxPool2d(kernel_size=2, stride=2, padding=0, dilation=1, ceil_mode=False)\n",
      "      (9): Flatten(start_dim=1, end_dim=-1)\n",
      "    )\n",
      "    (fc): Linear(in_features=50176, out_features=128, bias=True)\n",
      "  )\n",
      "  (fc_combined): Linear(in_features=192, out_features=32, bias=True)\n",
      "  (transformer_encoder): TransformerEncoder(\n",
      "    (layers): ModuleList(\n",
      "      (0): TransformerEncoderLayer(\n",
      "        (self_attn): MultiheadAttention(\n",
      "          (out_proj): NonDynamicallyQuantizableLinear(in_features=32, out_features=32, bias=True)\n",
      "        )\n",
      "        (linear1): Linear(in_features=32, out_features=64, bias=True)\n",
      "        (dropout): Dropout(p=0.1, inplace=False)\n",
      "        (linear2): Linear(in_features=64, out_features=32, bias=True)\n",
      "        (norm1): LayerNorm((32,), eps=1e-05, elementwise_affine=True)\n",
      "        (norm2): LayerNorm((32,), eps=1e-05, elementwise_affine=True)\n",
      "        (dropout1): Dropout(p=0.1, inplace=False)\n",
      "        (dropout2): Dropout(p=0.1, inplace=False)\n",
      "      )\n",
      "    )\n",
      "  )\n",
      "  (fc): Linear(in_features=32, out_features=8, bias=True)\n",
      ")\n"
     ]
    },
    {
     "name": "stderr",
     "output_type": "stream",
     "text": [
      "/home/waldos/anaconda3/envs/pytorch39/lib/python3.9/site-packages/torch/nn/modules/transformer.py:306: UserWarning: enable_nested_tensor is True, but self.use_nested_tensor is False because encoder_layer.self_attn.batch_first was not True(use batch_first for better inference performance)\n",
      "  warnings.warn(f\"enable_nested_tensor is True, but self.use_nested_tensor is False because {why_not_sparsity_fast_path}\")\n"
     ]
    }
   ],
   "source": [
    "# Inicializar el modelo\n",
    "num_keypoints = len(keypoints_columns)\n",
    "num_dimensions = 2\n",
    "num_angles = len(angle_columns)\n",
    "embed_dim = 32\n",
    "num_heads = 4\n",
    "ff_dim = 64\n",
    "num_classes = len(label_encoder.classes_)\n",
    "\n",
    "model = CombinedModel(num_keypoints, num_dimensions, num_angles, embed_dim, num_heads, ff_dim, num_classes)\n",
    "print(model)\n"
   ]
  },
  {
   "cell_type": "code",
   "execution_count": 36,
   "metadata": {},
   "outputs": [],
   "source": [
    "# Función de pérdida y optimizador\n",
    "criterion = nn.CrossEntropyLoss()\n",
    "optimizer = optim.Adam(model.parameters(), lr=0.001)"
   ]
  },
  {
   "cell_type": "code",
   "execution_count": 37,
   "metadata": {},
   "outputs": [],
   "source": [
    "\n",
    "# Función para entrenar el modelo\n",
    "def train_model(model, criterion, optimizer, X_train_keypoints, X_train_angles, X_train_images, y_train, num_epochs=10, batch_size=32):\n",
    "    model.train()\n",
    "    for epoch in range(num_epochs):\n",
    "        running_loss = 0.0\n",
    "        for i in range(0, len(X_train_keypoints), batch_size):\n",
    "            inputs_keypoints = X_train_keypoints[i:i+batch_size]\n",
    "            inputs_angles = X_train_angles[i:i+batch_size]\n",
    "            inputs_images = X_train_images[i:i+batch_size]\n",
    "            labels = y_train[i:i+batch_size]\n",
    "\n",
    "            optimizer.zero_grad()\n",
    "            outputs = model(inputs_keypoints, inputs_angles, inputs_images)\n",
    "            loss = criterion(outputs, labels.long())  # Asegúrate de que las etiquetas sean de tipo long\n",
    "            loss.backward()\n",
    "            optimizer.step()\n",
    "            running_loss += loss.item()\n",
    "\n",
    "        print(f'Epoch [{epoch+1}/{num_epochs}], Loss: {running_loss / len(X_train_keypoints)}')\n"
   ]
  },
  {
   "cell_type": "code",
   "execution_count": 41,
   "metadata": {},
   "outputs": [
    {
     "name": "stdout",
     "output_type": "stream",
     "text": [
      "Angulos:\n",
      "tensor([[126.1938],\n",
      "        [263.9974],\n",
      "        [167.4521],\n",
      "        [ 91.0446],\n",
      "        [164.7586],\n",
      "        [267.2357],\n",
      "        [188.3060],\n",
      "        [ 85.5995],\n",
      "        [243.7829]])\n",
      "Keypoints:\n",
      "tensor([[-0.2783, -1.6024],\n",
      "        [-0.2803, -2.2388],\n",
      "        [-0.3045, -2.0864],\n",
      "        [-0.3045, -1.6989],\n",
      "        [-0.3315, -2.2298],\n",
      "        [-0.3517, -0.5010],\n",
      "        [-0.3972, -1.1289],\n",
      "        [-0.2164, -1.8875],\n",
      "        [-0.3505, -2.0371],\n",
      "        [-0.2207, -1.8062],\n",
      "        [-0.3675, -1.7062],\n",
      "        [-0.1551, -0.6982],\n",
      "        [-0.7718, -2.7451],\n",
      "        [-0.2932, -2.1839],\n",
      "        [-0.2864, -1.9751]])\n",
      "Imagenes:\n",
      "tensor([[[-2.1179, -2.1179, -2.1179,  ..., -2.1179, -2.1179, -2.1179],\n",
      "         [-2.1179, -2.1179, -2.1179,  ..., -2.1179, -2.1179, -2.1179],\n",
      "         [-2.1179, -2.1179, -2.1179,  ..., -2.1179, -2.1179, -2.1179],\n",
      "         ...,\n",
      "         [-2.1008, -2.1008, -2.1008,  ..., -2.1008, -2.1008, -2.0837],\n",
      "         [-2.0837, -2.1008, -2.1008,  ..., -2.1008, -2.1008, -2.0837],\n",
      "         [-2.0665, -2.0837, -2.1008,  ..., -2.1008, -2.1008, -2.1008]],\n",
      "\n",
      "        [[-2.0357, -2.0357, -2.0357,  ..., -2.0357, -2.0357, -2.0357],\n",
      "         [-2.0357, -2.0357, -2.0357,  ..., -2.0357, -2.0357, -2.0357],\n",
      "         [-2.0357, -2.0357, -2.0357,  ..., -2.0357, -2.0357, -2.0357],\n",
      "         ...,\n",
      "         [-2.0357, -2.0357, -2.0357,  ..., -2.0182, -2.0182, -2.0007],\n",
      "         [-2.0357, -2.0357, -2.0357,  ..., -2.0182, -2.0182, -2.0007],\n",
      "         [-2.0357, -2.0357, -2.0357,  ..., -2.0182, -2.0182, -2.0182]],\n",
      "\n",
      "        [[-1.8044, -1.8044, -1.8044,  ..., -1.8044, -1.8044, -1.8044],\n",
      "         [-1.8044, -1.8044, -1.8044,  ..., -1.8044, -1.8044, -1.8044],\n",
      "         [-1.8044, -1.8044, -1.8044,  ..., -1.8044, -1.8044, -1.8044],\n",
      "         ...,\n",
      "         [-1.7696, -1.7870, -1.8044,  ..., -1.7870, -1.7870, -1.7696],\n",
      "         [-1.7347, -1.7522, -1.7870,  ..., -1.7870, -1.7870, -1.7696],\n",
      "         [-1.6824, -1.7173, -1.7522,  ..., -1.7870, -1.7870, -1.7870]]])\n"
     ]
    }
   ],
   "source": [
    "print(\"Angulos:\")\n",
    "print(X_train_angles[0])\n",
    "print(\"Keypoints:\")\n",
    "print(X_train_keypoints[0])\n",
    "print(\"Imagenes:\")  \n",
    "print(X_train_images[0])"
   ]
  },
  {
   "cell_type": "code",
   "execution_count": 42,
   "metadata": {},
   "outputs": [
    {
     "name": "stdout",
     "output_type": "stream",
     "text": [
      "Epoch [1/10], Loss: 0.061037935152871654\n",
      "Epoch [2/10], Loss: 0.04707335923091475\n",
      "Epoch [3/10], Loss: 0.03573178708511071\n",
      "Epoch [4/10], Loss: 0.027016893620612686\n",
      "Epoch [5/10], Loss: 0.019415209430232276\n",
      "Epoch [6/10], Loss: 0.013556872624547493\n",
      "Epoch [7/10], Loss: 0.008246166081102414\n",
      "Epoch [8/10], Loss: 0.004993071363780788\n",
      "Epoch [9/10], Loss: 0.002835128710471215\n",
      "Epoch [10/10], Loss: 0.0017749710017742628\n"
     ]
    }
   ],
   "source": [
    "# Entrenar el modelo\n",
    "train_model(model, criterion, optimizer, X_train_keypoints, X_train_angles, X_train_images, y_train, num_epochs=10)\n"
   ]
  },
  {
   "cell_type": "code",
   "execution_count": 43,
   "metadata": {},
   "outputs": [
    {
     "name": "stdout",
     "output_type": "stream",
     "text": [
      "Test Accuracy: 79.89%\n"
     ]
    },
    {
     "data": {
      "image/png": "[encoded data removed]",
      "text/plain": [
       "<Figure size 640x480 with 2 Axes>"
      ]
     },
     "metadata": {},
     "output_type": "display_data"
    }
   ],
   "source": [
    "from sklearn.metrics import confusion_matrix, ConfusionMatrixDisplay\n",
    "import matplotlib.pyplot as plt\n",
    "\n",
    "# Evaluar el modelo\n",
    "model.eval()\n",
    "with torch.no_grad():\n",
    "    outputs = model(X_test_keypoints, X_test_angles, X_test_images)\n",
    "    _, predicted = torch.max(outputs, 1)\n",
    "    accuracy = (predicted == y_test).sum().item() / len(y_test)\n",
    "    print(f\"Test Accuracy: {accuracy * 100:.2f}%\")\n",
    "\n",
    "    # Calcular la matriz de confusión\n",
    "    cm = confusion_matrix(y_test, predicted)\n",
    "    disp = ConfusionMatrixDisplay(confusion_matrix=cm, display_labels=label_encoder.classes_)\n",
    "    disp.plot(cmap=plt.cm.Blues)\n",
    "    plt.show()"
   ]
  },
  {
   "cell_type": "code",
   "execution_count": 44,
   "metadata": {},
   "outputs": [],
   "source": [
    "# Guardar el modelo\n",
    "torch.save(model.state_dict(), 'modelo_Transformers.pth')"
   ]
  }
 ],
 "metadata": {
  "kernelspec": {
   "display_name": "tf",
   "language": "python",
   "name": "python3"
  },
  "language_info": {
   "codemirror_mode": {
    "name": "ipython",
    "version": 3
   },
   "file_extension": ".py",
   "mimetype": "text/x-python",
   "name": "python",
   "nbconvert_exporter": "python",
   "pygments_lexer": "ipython3",
   "version": "3.9.19"
  }
 },
 "nbformat": 4,
 "nbformat_minor": 2
}
