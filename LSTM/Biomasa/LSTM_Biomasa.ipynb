{
 "cells": [
  {
   "cell_type": "code",
   "execution_count": 15,
   "metadata": {},
   "outputs": [],
   "source": [
    "import pandas as pd\n",
    "import numpy as np\n",
    "import tensorflow as tf\n",
    "from tensorflow.keras.models import Sequential\n",
    "from tensorflow.keras.layers import LSTM, Dense\n",
    "from tensorflow.keras.callbacks import EarlyStopping\n"
   ]
  },
  {
   "cell_type": "code",
   "execution_count": 16,
   "metadata": {},
   "outputs": [],
   "source": [
    "# Datos de ejemplo (secuencia de números)\n",
    "df = pd.read_excel('/home/waldos/Documents/2doCodigo/RecPatron/BD/DatosFrame/Datos frames.xlsx')  # Reemplaza 'datos.xlsx' con el nombre de tu archivo Excel"
   ]
  },
  {
   "cell_type": "code",
   "execution_count": 17,
   "metadata": {},
   "outputs": [
    {
     "data": {
      "text/html": [
       "<div>\n",
       "<style scoped>\n",
       "    .dataframe tbody tr th:only-of-type {\n",
       "        vertical-align: middle;\n",
       "    }\n",
       "\n",
       "    .dataframe tbody tr th {\n",
       "        vertical-align: top;\n",
       "    }\n",
       "\n",
       "    .dataframe thead th {\n",
       "        text-align: right;\n",
       "    }\n",
       "</style>\n",
       "<table border=\"1\" class=\"dataframe\">\n",
       "  <thead>\n",
       "    <tr style=\"text-align: right;\">\n",
       "      <th></th>\n",
       "      <th>Nombre imagen</th>\n",
       "      <th>Biomasa g/L</th>\n",
       "    </tr>\n",
       "  </thead>\n",
       "  <tbody>\n",
       "    <tr>\n",
       "      <th>0</th>\n",
       "      <td>roi_000</td>\n",
       "      <td>0.150</td>\n",
       "    </tr>\n",
       "    <tr>\n",
       "      <th>1</th>\n",
       "      <td>roi_001</td>\n",
       "      <td>0.165</td>\n",
       "    </tr>\n",
       "    <tr>\n",
       "      <th>2</th>\n",
       "      <td>roi_002</td>\n",
       "      <td>0.177</td>\n",
       "    </tr>\n",
       "    <tr>\n",
       "      <th>3</th>\n",
       "      <td>roi_003</td>\n",
       "      <td>0.145</td>\n",
       "    </tr>\n",
       "    <tr>\n",
       "      <th>4</th>\n",
       "      <td>roi_004</td>\n",
       "      <td>0.158</td>\n",
       "    </tr>\n",
       "  </tbody>\n",
       "</table>\n",
       "</div>"
      ],
      "text/plain": [
       "  Nombre imagen  Biomasa g/L\n",
       "0       roi_000        0.150\n",
       "1       roi_001        0.165\n",
       "2       roi_002        0.177\n",
       "3       roi_003        0.145\n",
       "4       roi_004        0.158"
      ]
     },
     "execution_count": 17,
     "metadata": {},
     "output_type": "execute_result"
    }
   ],
   "source": [
    "df.head()"
   ]
  },
  {
   "cell_type": "code",
   "execution_count": 18,
   "metadata": {},
   "outputs": [],
   "source": [
    "data = df['Biomasa g/L'].values"
   ]
  },
  {
   "cell_type": "code",
   "execution_count": 19,
   "metadata": {},
   "outputs": [
    {
     "name": "stdout",
     "output_type": "stream",
     "text": [
      "[0.15  0.165 0.177 ... 3.333 3.    3.333]\n"
     ]
    }
   ],
   "source": [
    "print(data)"
   ]
  },
  {
   "cell_type": "code",
   "execution_count": 20,
   "metadata": {},
   "outputs": [],
   "source": [
    "# Preparar datos para LSTM\n",
    "def prepare_data(data, n_steps):\n",
    "    X, y = [], []\n",
    "    for i in range(len(data)):\n",
    "        end_ix = i + n_steps\n",
    "        if end_ix > len(data)-1:\n",
    "            break\n",
    "        seq_x, seq_y = data[i:end_ix], data[end_ix]\n",
    "        X.append(seq_x)\n",
    "        y.append(seq_y)\n",
    "    return tf.convert_to_tensor(X, dtype=tf.float32), tf.convert_to_tensor(y, dtype=tf.float32)\n"
   ]
  },
  {
   "cell_type": "code",
   "execution_count": 21,
   "metadata": {},
   "outputs": [],
   "source": [
    "# Definir hiperparámetros\n",
    "n_steps = 4\n",
    "n_features = 1\n",
    "\n",
    "# Preparar datos\n",
    "X, y = prepare_data(data, n_steps)"
   ]
  },
  {
   "cell_type": "code",
   "execution_count": 22,
   "metadata": {},
   "outputs": [
    {
     "name": "stdout",
     "output_type": "stream",
     "text": [
      "tf.Tensor(\n",
      "[[0.15  0.165 0.177 0.145]\n",
      " [0.165 0.177 0.145 0.158]\n",
      " [0.177 0.145 0.158 0.125]\n",
      " ...\n",
      " [3.    3.333 3.333 3.333]\n",
      " [3.333 3.333 3.333 3.333]\n",
      " [3.333 3.333 3.333 3.   ]], shape=(1076, 4), dtype=float32)\n"
     ]
    }
   ],
   "source": [
    "print(X)\n"
   ]
  },
  {
   "cell_type": "code",
   "execution_count": 23,
   "metadata": {},
   "outputs": [
    {
     "name": "stdout",
     "output_type": "stream",
     "text": [
      "tf.Tensor([0.158 0.125 0.129 ... 3.333 3.    3.333], shape=(1076,), dtype=float32)\n"
     ]
    }
   ],
   "source": [
    "print(y)"
   ]
  },
  {
   "cell_type": "code",
   "execution_count": 24,
   "metadata": {},
   "outputs": [
    {
     "name": "stdout",
     "output_type": "stream",
     "text": [
      "WARNING:tensorflow:Layer lstm_1 will not use cuDNN kernels since it doesn't meet the criteria. It will use a generic GPU kernel as fallback when running on GPU.\n"
     ]
    }
   ],
   "source": [
    "# Definir el modelo\n",
    "model = Sequential()\n",
    "model.add(LSTM(50, activation='relu', input_shape=(n_steps, n_features)))\n",
    "model.add(Dense(1))\n",
    "model.compile(optimizer='adam', loss='mse')"
   ]
  },
  {
   "cell_type": "code",
   "execution_count": 25,
   "metadata": {},
   "outputs": [
    {
     "name": "stdout",
     "output_type": "stream",
     "text": [
      "Epoch 1/100\n",
      "860/860 [==============================] - 7s 6ms/step - loss: 0.1068 - val_loss: 0.0311\n",
      "Epoch 2/100\n",
      "860/860 [==============================] - 5s 6ms/step - loss: 0.0188 - val_loss: 0.0304\n",
      "Epoch 3/100\n",
      "860/860 [==============================] - 5s 6ms/step - loss: 0.0197 - val_loss: 0.0177\n",
      "Epoch 4/100\n",
      "860/860 [==============================] - 5s 6ms/step - loss: 0.0175 - val_loss: 0.0204\n",
      "Epoch 5/100\n",
      "860/860 [==============================] - 5s 6ms/step - loss: 0.0165 - val_loss: 0.0172\n",
      "Epoch 6/100\n",
      "860/860 [==============================] - 5s 6ms/step - loss: 0.0167 - val_loss: 0.0176\n",
      "Epoch 7/100\n",
      "860/860 [==============================] - 5s 6ms/step - loss: 0.0165 - val_loss: 0.0291\n",
      "Epoch 8/100\n",
      "860/860 [==============================] - 5s 6ms/step - loss: 0.0164 - val_loss: 0.0181\n"
     ]
    }
   ],
   "source": [
    "# Definir Early Stopping\n",
    "early_stopping = EarlyStopping(monitor='val_loss', patience=3, restore_best_weights=True)\n",
    "\n",
    "# Entrenar el modelo\n",
    "history = model.fit(X, y, epochs=100, verbose=1, batch_size=1, validation_split=0.2, callbacks=[early_stopping])\n",
    "\n",
    "\n"
   ]
  },
  {
   "cell_type": "code",
   "execution_count": 27,
   "metadata": {},
   "outputs": [
    {
     "name": "stdout",
     "output_type": "stream",
     "text": [
      "Predicción: 94.17955\n"
     ]
    }
   ],
   "source": [
    "# Hacer predicciones\n",
    "x_input = tf.convert_to_tensor([[i] for i in range(100, 104)])\n",
    "x_input = tf.reshape(x_input, (1, n_steps, n_features))\n",
    "y_pred = model.predict(x_input, verbose=0)\n",
    "\n",
    "print(\"Predicción:\", y_pred[0][0])"
   ]
  },
  {
   "cell_type": "code",
   "execution_count": null,
   "metadata": {},
   "outputs": [],
   "source": []
  }
 ],
 "metadata": {
  "kernelspec": {
   "display_name": "tf",
   "language": "python",
   "name": "python3"
  },
  "language_info": {
   "codemirror_mode": {
    "name": "ipython",
    "version": 3
   },
   "file_extension": ".py",
   "mimetype": "text/x-python",
   "name": "python",
   "nbconvert_exporter": "python",
   "pygments_lexer": "ipython3",
   "version": "3.9.19"
  }
 },
 "nbformat": 4,
 "nbformat_minor": 2
}
