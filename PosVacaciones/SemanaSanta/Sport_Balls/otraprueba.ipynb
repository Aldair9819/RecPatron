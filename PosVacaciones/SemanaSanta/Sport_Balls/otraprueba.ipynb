{
 "cells": [
  {
   "cell_type": "code",
   "execution_count": 1,
   "metadata": {},
   "outputs": [
    {
     "name": "stdout",
     "output_type": "stream",
     "text": [
      "GPU disponible:\n",
      "/device:GPU:0\n",
      "Epoch 1/5\n",
      "938/938 [==============================] - 8s 5ms/step - loss: 0.1756 - accuracy: 0.9463 - val_loss: 0.0477 - val_accuracy: 0.9852\n",
      "Epoch 2/5\n",
      "938/938 [==============================] - 5s 5ms/step - loss: 0.0499 - accuracy: 0.9841 - val_loss: 0.0305 - val_accuracy: 0.9898\n",
      "Epoch 3/5\n",
      "938/938 [==============================] - 5s 5ms/step - loss: 0.0350 - accuracy: 0.9893 - val_loss: 0.0296 - val_accuracy: 0.9906\n",
      "Epoch 4/5\n",
      "938/938 [==============================] - 5s 5ms/step - loss: 0.0277 - accuracy: 0.9911 - val_loss: 0.0322 - val_accuracy: 0.9895\n",
      "Epoch 5/5\n",
      "938/938 [==============================] - 5s 5ms/step - loss: 0.0222 - accuracy: 0.9932 - val_loss: 0.0289 - val_accuracy: 0.9906\n",
      "313/313 [==============================] - 1s 3ms/step - loss: 0.0289 - accuracy: 0.9906\n",
      "Precisión en el conjunto de pruebas: 0.9905999898910522\n"
     ]
    }
   ],
   "source": [
    "import tensorflow as tf\n",
    "from tensorflow.keras import layers, models\n",
    "import numpy as np\n",
    "\n",
    "# Verificar si hay una GPU disponible\n",
    "if tf.test.gpu_device_name():\n",
    "    print('GPU disponible:')\n",
    "    print(tf.test.gpu_device_name())\n",
    "else:\n",
    "    print(\"No se ha encontrado GPU. Por favor, asegúrate de que TensorFlow está configurado correctamente.\")\n",
    "\n",
    "# Crear un modelo de CNN simple\n",
    "model = models.Sequential([\n",
    "    layers.Conv2D(32, (3, 3), activation='relu', input_shape=(28, 28, 1)),\n",
    "    layers.MaxPooling2D((2, 2)),\n",
    "    layers.Conv2D(64, (3, 3), activation='relu'),\n",
    "    layers.MaxPooling2D((2, 2)),\n",
    "    layers.Conv2D(64, (3, 3), activation='relu'),\n",
    "    layers.Flatten(),\n",
    "    layers.Dense(64, activation='relu'),\n",
    "    layers.Dense(10, activation='softmax')\n",
    "])\n",
    "\n",
    "# Compilar el modelo\n",
    "model.compile(optimizer='adam',\n",
    "              loss='sparse_categorical_crossentropy',\n",
    "              metrics=['accuracy'])\n",
    "\n",
    "# Crear datos de ejemplo\n",
    "(train_images, train_labels), (test_images, test_labels) = tf.keras.datasets.mnist.load_data()\n",
    "train_images = np.expand_dims(train_images / 255.0, axis=-1)\n",
    "test_images = np.expand_dims(test_images / 255.0, axis=-1)\n",
    "\n",
    "# Entrenar el modelo\n",
    "model.fit(train_images, train_labels, epochs=5, batch_size=64, validation_data=(test_images, test_labels))\n",
    "\n",
    "# Evaluar el modelo\n",
    "test_loss, test_acc = model.evaluate(test_images, test_labels)\n",
    "print(f'Precisión en el conjunto de pruebas: {test_acc}')\n",
    "\n",
    "# Guardar el modelo\n",
    "#model.save('modelo_cnn.h5')\n"
   ]
  }
 ],
 "metadata": {
  "kernelspec": {
   "display_name": "tf",
   "language": "python",
   "name": "python3"
  },
  "language_info": {
   "codemirror_mode": {
    "name": "ipython",
    "version": 3
   },
   "file_extension": ".py",
   "mimetype": "text/x-python",
   "name": "python",
   "nbconvert_exporter": "python",
   "pygments_lexer": "ipython3",
   "version": "3.9.18"
  }
 },
 "nbformat": 4,
 "nbformat_minor": 2
}
