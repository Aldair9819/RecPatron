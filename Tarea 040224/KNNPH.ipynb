{
 "cells": [
  {
   "cell_type": "markdown",
   "metadata": {},
   "source": [
    "Se importa libreria pandas para manejo de datos\n",
    "Se pone el PATH del archivo\n",
    "Se pone un encoding para el archivo"
   ]
  },
  {
   "cell_type": "code",
   "execution_count": 1,
   "metadata": {},
   "outputs": [],
   "source": [
    "import numpy as np\n",
    "import pandas as pd\n",
    "import seaborn as sns\n",
    "sns.set_palette('husl')\n",
    "import matplotlib.pyplot as plt\n",
    "%matplotlib inline\n",
    "\n",
    "from sklearn import metrics\n",
    "from sklearn.neighbors import KNeighborsClassifier\n",
    "from sklearn.linear_model import LogisticRegression\n",
    "from sklearn.model_selection import train_test_split\n",
    "from sklearn.neighbors import KNeighborsRegressor\n",
    "from sklearn.linear_model import LinearRegression\n",
    "\n",
    "# Especifica la ruta del archivo .txt\n",
    "ruta_archivo = 'C:\\\\Users\\\\Waldosir\\\\Documents\\\\2doCodigo\\\\RecPatron\\\\Tarea 040224\\\\PARAMETROS_FINALES_CRUDOS.csv'\n",
    "encoding = 'latin-1'"
   ]
  },
  {
   "cell_type": "markdown",
   "metadata": {},
   "source": [
    "Se lee archivo de la ruta, con el encoding y la separacion por coma\n",
    "Se imprime las primeras filas del DataFrame\n",
    "Se imprime todos los nombres de los encabezados"
   ]
  },
  {
   "cell_type": "code",
   "execution_count": 2,
   "metadata": {},
   "outputs": [
    {
     "name": "stdout",
     "output_type": "stream",
     "text": [
      "   CLOROF_A  COLI_FEC  COLI_TOT   E_COLI     COT  COT_SOL  DBO_SOL  DBO_TOT  \\\n",
      "0       NaN   24196.0   24196.0      NaN  2.3560   2.3500     3.33     6.63   \n",
      "1       NaN   24196.0   24196.0  24196.0  8.3441   6.4727     2.73     4.11   \n",
      "2       NaN   24196.0   24196.0   3654.0  8.1953   6.1425     4.97     6.65   \n",
      "3       NaN   24196.0   24196.0    776.0  7.6502   4.0415     2.00     2.34   \n",
      "4       NaN     663.0   12997.0    109.0  9.4452   3.0909     2.00     2.33   \n",
      "\n",
      "   DQO_SOL  DQO_TOT  ...  TEMP_AMB  PROFUNDIDAD    CAUDAL   DUR_TOT  \\\n",
      "0     12.6  18.0872  ...      35.3          NaN     430.0  303.3400   \n",
      "1     15.5  27.8784  ...      26.7          NaN  420000.0  222.9984   \n",
      "2     10.0  16.1600  ...      34.6          NaN     180.0  224.4432   \n",
      "3     10.0  10.0000  ...       NaN          NaN       5.0  414.9600   \n",
      "4     10.0  25.4700  ...      37.4          NaN       5.0  298.9900   \n",
      "\n",
      "   TEMP_AGUA  CONDUC_CAMPO  pH_CAMPO   OD_%  OD_mg/L  \\\n",
      "0       24.6        1200.0      8.20   83.7     5.26   \n",
      "1       24.3         677.0      7.97   85.8     7.21   \n",
      "2       25.8         479.0      8.02   89.8     7.31   \n",
      "3       29.9         930.0      8.05   94.3     7.07   \n",
      "4       33.1        1170.0      8.27  127.6     9.06   \n",
      "\n",
      "                   NOMBRE DEL SITIO  \n",
      "0  CULIACAN NORTE  (A) AGUAS ARRIBA  \n",
      "1  CULIACAN NORTE  (A) AGUAS ARRIBA  \n",
      "2  CULIACAN NORTE  (A) AGUAS ARRIBA  \n",
      "3  CULIACAN NORTE  (A) AGUAS ARRIBA  \n",
      "4  CULIACAN NORTE  (A) AGUAS ARRIBA  \n",
      "\n",
      "[5 rows x 35 columns]\n",
      "Nombres de los datos->\n",
      "Empty DataFrame\n",
      "Columns: [CLOROF_A, COLI_FEC, COLI_TOT, E_COLI, COT, COT_SOL, DBO_SOL, DBO_TOT, DQO_SOL, DQO_TOT, N_NH3, N_NO2, N_NO3, N_ORG, N_TOT, N_TOTK, P_TOT, ORTO_PO4, COLOR_VER, TRANSPARENCIA, ABS_UV, SDT, SAAM, SST, TURBIEDAD, TEMP_AMB, PROFUNDIDAD, CAUDAL, DUR_TOT, TEMP_AGUA, CONDUC_CAMPO, pH_CAMPO, OD_%, OD_mg/L, NOMBRE DEL SITIO]\n",
      "Index: []\n",
      "\n",
      "[0 rows x 35 columns]\n"
     ]
    }
   ],
   "source": [
    "\n",
    "# Lee el archivo .txt en un DataFrame de Pandas\n",
    "dataframe = pd.read_csv(ruta_archivo,encoding= encoding, sep=',' )\n",
    "# Muestra las primeras filas del DataFrame para verificar la carga de datos\n",
    "print(dataframe.head())\n",
    "print(\"Nombres de los datos->\")\n",
    "print(dataframe.iloc[:0, ])\n"
   ]
  },
  {
   "cell_type": "markdown",
   "metadata": {},
   "source": [
    "Se seleccionan solo las columnas "
   ]
  },
  {
   "cell_type": "code",
   "execution_count": 3,
   "metadata": {},
   "outputs": [
    {
     "name": "stdout",
     "output_type": "stream",
     "text": [
      "   OD_mg/L  CONDUC_CAMPO  TEMP_AGUA  pH_CAMPO\n",
      "0     5.26        1200.0       24.6      8.20\n",
      "1     7.21         677.0       24.3      7.97\n",
      "2     7.31         479.0       25.8      8.02\n",
      "3     7.07         930.0       29.9      8.05\n",
      "4     9.06        1170.0       33.1      8.27\n",
      "<class 'pandas.core.frame.DataFrame'>\n",
      "RangeIndex: 6162 entries, 0 to 6161\n",
      "Data columns (total 4 columns):\n",
      " #   Column        Non-Null Count  Dtype  \n",
      "---  ------        --------------  -----  \n",
      " 0   OD_mg/L       5912 non-null   float64\n",
      " 1   CONDUC_CAMPO  6108 non-null   float64\n",
      " 2   TEMP_AGUA     5941 non-null   float64\n",
      " 3   pH_CAMPO      6067 non-null   float64\n",
      "dtypes: float64(4)\n",
      "memory usage: 192.7 KB\n",
      "None\n"
     ]
    }
   ],
   "source": [
    "columnas_deseadas = ['OD_mg/L', 'CONDUC_CAMPO', 'TEMP_AGUA', 'pH_CAMPO']\n",
    "nuevo_dataframe = dataframe[columnas_deseadas]\n",
    "print(nuevo_dataframe.head())\n",
    "\n",
    "print(nuevo_dataframe.info())"
   ]
  },
  {
   "cell_type": "code",
   "execution_count": 4,
   "metadata": {},
   "outputs": [
    {
     "name": "stdout",
     "output_type": "stream",
     "text": [
      "<class 'pandas.core.frame.DataFrame'>\n",
      "Index: 5656 entries, 0 to 6161\n",
      "Data columns (total 4 columns):\n",
      " #   Column        Non-Null Count  Dtype  \n",
      "---  ------        --------------  -----  \n",
      " 0   OD_mg/L       5656 non-null   float64\n",
      " 1   CONDUC_CAMPO  5656 non-null   float64\n",
      " 2   TEMP_AGUA     5656 non-null   float64\n",
      " 3   pH_CAMPO      5656 non-null   float64\n",
      "dtypes: float64(4)\n",
      "memory usage: 220.9 KB\n",
      "None\n"
     ]
    }
   ],
   "source": [
    "data = nuevo_dataframe.dropna()\n",
    "print(data.info())\n"
   ]
  },
  {
   "cell_type": "code",
   "execution_count": 5,
   "metadata": {},
   "outputs": [
    {
     "data": {
      "text/html": [
       "<div>\n",
       "<style scoped>\n",
       "    .dataframe tbody tr th:only-of-type {\n",
       "        vertical-align: middle;\n",
       "    }\n",
       "\n",
       "    .dataframe tbody tr th {\n",
       "        vertical-align: top;\n",
       "    }\n",
       "\n",
       "    .dataframe thead th {\n",
       "        text-align: right;\n",
       "    }\n",
       "</style>\n",
       "<table border=\"1\" class=\"dataframe\">\n",
       "  <thead>\n",
       "    <tr style=\"text-align: right;\">\n",
       "      <th></th>\n",
       "      <th>OD_mg/L</th>\n",
       "      <th>CONDUC_CAMPO</th>\n",
       "      <th>TEMP_AGUA</th>\n",
       "      <th>pH_CAMPO</th>\n",
       "    </tr>\n",
       "  </thead>\n",
       "  <tbody>\n",
       "    <tr>\n",
       "      <th>count</th>\n",
       "      <td>5656.000000</td>\n",
       "      <td>5656.000000</td>\n",
       "      <td>5656.000000</td>\n",
       "      <td>5656.000000</td>\n",
       "    </tr>\n",
       "    <tr>\n",
       "      <th>mean</th>\n",
       "      <td>7.180562</td>\n",
       "      <td>18293.398362</td>\n",
       "      <td>28.547056</td>\n",
       "      <td>8.113287</td>\n",
       "    </tr>\n",
       "    <tr>\n",
       "      <th>std</th>\n",
       "      <td>2.296085</td>\n",
       "      <td>27252.913203</td>\n",
       "      <td>3.622815</td>\n",
       "      <td>0.460694</td>\n",
       "    </tr>\n",
       "    <tr>\n",
       "      <th>min</th>\n",
       "      <td>1.000000</td>\n",
       "      <td>63.000000</td>\n",
       "      <td>16.300000</td>\n",
       "      <td>0.200000</td>\n",
       "    </tr>\n",
       "    <tr>\n",
       "      <th>25%</th>\n",
       "      <td>6.087500</td>\n",
       "      <td>230.000000</td>\n",
       "      <td>25.900000</td>\n",
       "      <td>7.820000</td>\n",
       "    </tr>\n",
       "    <tr>\n",
       "      <th>50%</th>\n",
       "      <td>7.310000</td>\n",
       "      <td>717.000000</td>\n",
       "      <td>29.100000</td>\n",
       "      <td>8.100000</td>\n",
       "    </tr>\n",
       "    <tr>\n",
       "      <th>75%</th>\n",
       "      <td>8.420000</td>\n",
       "      <td>45811.750000</td>\n",
       "      <td>31.400000</td>\n",
       "      <td>8.400000</td>\n",
       "    </tr>\n",
       "    <tr>\n",
       "      <th>max</th>\n",
       "      <td>21.660000</td>\n",
       "      <td>148300.000000</td>\n",
       "      <td>39.600000</td>\n",
       "      <td>10.000000</td>\n",
       "    </tr>\n",
       "  </tbody>\n",
       "</table>\n",
       "</div>"
      ],
      "text/plain": [
       "           OD_mg/L   CONDUC_CAMPO    TEMP_AGUA     pH_CAMPO\n",
       "count  5656.000000    5656.000000  5656.000000  5656.000000\n",
       "mean      7.180562   18293.398362    28.547056     8.113287\n",
       "std       2.296085   27252.913203     3.622815     0.460694\n",
       "min       1.000000      63.000000    16.300000     0.200000\n",
       "25%       6.087500     230.000000    25.900000     7.820000\n",
       "50%       7.310000     717.000000    29.100000     8.100000\n",
       "75%       8.420000   45811.750000    31.400000     8.400000\n",
       "max      21.660000  148300.000000    39.600000    10.000000"
      ]
     },
     "execution_count": 5,
     "metadata": {},
     "output_type": "execute_result"
    }
   ],
   "source": [
    "data.describe()"
   ]
  },
  {
   "cell_type": "code",
   "execution_count": 6,
   "metadata": {},
   "outputs": [
    {
     "name": "stdout",
     "output_type": "stream",
     "text": [
      "   OD_mg/L  CONDUC_CAMPO  TEMP_AGUA\n",
      "0     5.26        1200.0       24.6\n",
      "1     7.21         677.0       24.3\n",
      "2     7.31         479.0       25.8\n",
      "3     7.07         930.0       29.9\n",
      "4     9.06        1170.0       33.1\n",
      "(5656, 3)\n"
     ]
    }
   ],
   "source": [
    "X = data.drop(['pH_CAMPO'], axis=1)\n",
    "y = data['pH_CAMPO']\n",
    "print(X.head())\n",
    "print(X.shape)"
   ]
  },
  {
   "cell_type": "code",
   "execution_count": 7,
   "metadata": {},
   "outputs": [
    {
     "name": "stdout",
     "output_type": "stream",
     "text": [
      "0    8.20\n",
      "1    7.97\n",
      "2    8.02\n",
      "3    8.05\n",
      "4    8.27\n",
      "Name: pH_CAMPO, dtype: float64\n",
      "(5656,)\n"
     ]
    }
   ],
   "source": [
    "print(y.head())\n",
    "print(y.shape)"
   ]
  },
  {
   "cell_type": "code",
   "execution_count": 8,
   "metadata": {},
   "outputs": [
    {
     "name": "stdout",
     "output_type": "stream",
     "text": [
      "(3393, 3)\n",
      "(3393,)\n",
      "(2263, 3)\n",
      "(2263,)\n"
     ]
    }
   ],
   "source": [
    "X_train, X_test, y_train, y_test = train_test_split(X, y, test_size=0.4, random_state=5)\n",
    "print(X_train.shape)\n",
    "print(y_train.shape)\n",
    "print(X_test.shape)\n",
    "print(y_test.shape)"
   ]
  },
  {
   "cell_type": "code",
   "execution_count": 9,
   "metadata": {},
   "outputs": [
    {
     "data": {
      "image/png": "[encoded data removed]",
      "text/plain": [
       "<Figure size 640x480 with 1 Axes>"
      ]
     },
     "metadata": {},
     "output_type": "display_data"
    }
   ],
   "source": [
    "# experimenting with different n values\n",
    "k_range = list(range(1,26))\n",
    "scores = []\n",
    "for k in k_range:\n",
    "    knn = KNeighborsRegressor(n_neighbors=k)\n",
    "    knn.fit(X_train, y_train)\n",
    "    y_pred = knn.predict(X_test)\n",
    "    # Depending on your regression task, you might need a different evaluation metric\n",
    "    # For example, mean squared error (MSE) could be used:\n",
    "    mse = metrics.mean_squared_error(y_test, y_pred)\n",
    "    scores.append(mse)\n",
    "\n",
    "plt.plot(k_range, scores)\n",
    "plt.xlabel('Value of k for KNN')\n",
    "plt.ylabel('Mean Squared Error')\n",
    "plt.title('Mean Squared Error for Values of k of k-Nearest-Neighbors')\n",
    "plt.show()"
   ]
  },
  {
   "cell_type": "code",
   "execution_count": 10,
   "metadata": {},
   "outputs": [
    {
     "name": "stdout",
     "output_type": "stream",
     "text": [
      "0.1599258075985396\n"
     ]
    }
   ],
   "source": [
    "\n",
    "# Ahora, veamos también cómo se comporta una regresión lineal (Linear Regression)\n",
    "logreg = LinearRegression()\n",
    "logreg.fit(X, y)\n",
    "y_pred = logreg.predict(X)\n",
    "print(metrics.mean_squared_error(y, y_pred))\n",
    "\n",
    "\n"
   ]
  },
  {
   "cell_type": "code",
   "execution_count": 11,
   "metadata": {},
   "outputs": [
    {
     "name": "stdout",
     "output_type": "stream",
     "text": [
      "(3393, 3)\n",
      "(3393,)\n",
      "(2263, 3)\n",
      "(2263,)\n"
     ]
    }
   ],
   "source": [
    "X_train, X_test, y_train, y_test = train_test_split(X, y, test_size=0.4, random_state=5)\n",
    "print(X_train.shape)\n",
    "print(y_train.shape)\n",
    "print(X_test.shape)\n",
    "print(y_test.shape)"
   ]
  },
  {
   "cell_type": "code",
   "execution_count": 12,
   "metadata": {},
   "outputs": [
    {
     "data": {
      "image/png": "[encoded data removed]",
      "text/plain": [
       "<Figure size 640x480 with 1 Axes>"
      ]
     },
     "metadata": {},
     "output_type": "display_data"
    }
   ],
   "source": [
    "# experimenting with different n values\n",
    "k_range = list(range(1,26))\n",
    "scores = []\n",
    "for k in k_range:\n",
    "    knn = KNeighborsRegressor(n_neighbors=k)\n",
    "    knn.fit(X_train, y_train)\n",
    "    y_pred = knn.predict(X_test)\n",
    "    mse = metrics.mean_squared_error(y_test, y_pred)\n",
    "    scores.append(mse)\n",
    "\n",
    "plt.plot(k_range, scores)\n",
    "plt.xlabel('Value of k for KNN')\n",
    "plt.ylabel('Accuracy Score')\n",
    "plt.title('Accuracy Scores for Values of k of k-Nearest-Neighbors')\n",
    "plt.show()"
   ]
  },
  {
   "cell_type": "code",
   "execution_count": 13,
   "metadata": {},
   "outputs": [
    {
     "name": "stdout",
     "output_type": "stream",
     "text": [
      "0.150838006524703\n"
     ]
    }
   ],
   "source": [
    "logreg = LinearRegression()\n",
    "logreg.fit(X_train, y_train)\n",
    "y_pred = logreg.predict(X_test)\n",
    "print(metrics.mean_squared_error(y_test, y_pred))"
   ]
  },
  {
   "cell_type": "code",
   "execution_count": 14,
   "metadata": {},
   "outputs": [
    {
     "name": "stdout",
     "output_type": "stream",
     "text": [
      "      OD_mg/L  CONDUC_CAMPO  TEMP_AGUA\n",
      "5578    11.27       42700.0       33.1\n"
     ]
    }
   ],
   "source": [
    "knn = KNeighborsRegressor(n_neighbors=19)\n",
    "knn.fit(X, y)\n",
    "data_predictX = X_test[0:1]\n",
    "print(data_predictX)"
   ]
  },
  {
   "cell_type": "code",
   "execution_count": 15,
   "metadata": {},
   "outputs": [
    {
     "name": "stdout",
     "output_type": "stream",
     "text": [
      "5578    8.4\n",
      "Name: pH_CAMPO, dtype: float64\n"
     ]
    }
   ],
   "source": [
    "data_predictY = y_test[0:1]\n",
    "print(data_predictY)"
   ]
  },
  {
   "cell_type": "code",
   "execution_count": 16,
   "metadata": {},
   "outputs": [
    {
     "name": "stderr",
     "output_type": "stream",
     "text": [
      "C:\\Users\\Waldosir\\AppData\\Local\\Packages\\PythonSoftwareFoundation.Python.3.9_qbz5n2kfra8p0\\LocalCache\\local-packages\\Python39\\site-packages\\sklearn\\base.py:493: UserWarning: X does not have valid feature names, but KNeighborsRegressor was fitted with feature names\n",
      "  warnings.warn(\n"
     ]
    },
    {
     "data": {
      "text/plain": [
       "array([8.33842105])"
      ]
     },
     "execution_count": 16,
     "metadata": {},
     "output_type": "execute_result"
    }
   ],
   "source": [
    "dato_predecir = [11.27,42700,33.1]\n",
    "knn.predict([dato_predecir])"
   ]
  }
 ],
 "metadata": {
  "kernelspec": {
   "display_name": "Python 3",
   "language": "python",
   "name": "python3"
  },
  "language_info": {
   "codemirror_mode": {
    "name": "ipython",
    "version": 3
   },
   "file_extension": ".py",
   "mimetype": "text/x-python",
   "name": "python",
   "nbconvert_exporter": "python",
   "pygments_lexer": "ipython3",
   "version": "3.9.13"
  }
 },
 "nbformat": 4,
 "nbformat_minor": 2
}
