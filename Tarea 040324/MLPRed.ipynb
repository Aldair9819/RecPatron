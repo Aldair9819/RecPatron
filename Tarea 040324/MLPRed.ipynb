{
 "cells": [
  {
   "cell_type": "code",
   "execution_count": 25,
   "metadata": {},
   "outputs": [],
   "source": [
    "# Importar las bibliotecas\n",
    "import numpy as np\n",
    "from sklearn import datasets\n",
    "from sklearn.model_selection import train_test_split\n",
    "from sklearn.preprocessing import StandardScaler, LabelEncoder\n",
    "from sklearn.metrics import accuracy_score\n",
    "from tensorflow.keras.models import Sequential\n",
    "from tensorflow.keras.layers import Dense"
   ]
  },
  {
   "cell_type": "code",
   "execution_count": 26,
   "metadata": {},
   "outputs": [],
   "source": [
    "import pandas as pd\n",
    "# Especifica la ruta del archivo .txt\n",
    "ruta_archivo = 'C:\\\\Users\\\\Waldosir\\\\Documents\\\\2doCodigo\\\\RecPatron\\\\BD\\\\iris_dataset.csv'\n",
    "encoding = 'latin-1'"
   ]
  },
  {
   "cell_type": "code",
   "execution_count": 27,
   "metadata": {},
   "outputs": [
    {
     "name": "stdout",
     "output_type": "stream",
     "text": [
      "   sepal length (cm)  sepal width (cm)  petal length (cm)  petal width (cm)  \\\n",
      "0                5.1               3.5                1.4               0.2   \n",
      "1                4.9               3.0                1.4               0.2   \n",
      "2                4.7               3.2                1.3               0.2   \n",
      "3                4.6               3.1                1.5               0.2   \n",
      "4                5.0               3.6                1.4               0.2   \n",
      "\n",
      "        target  \n",
      "0  Iris-setosa  \n",
      "1  Iris-setosa  \n",
      "2  Iris-setosa  \n",
      "3  Iris-setosa  \n",
      "4  Iris-setosa  \n"
     ]
    }
   ],
   "source": [
    "# Lee el archivo .txt en un DataFrame de Pandas\n",
    "dataframe = pd.read_csv(ruta_archivo,encoding= encoding, sep=',' )\n",
    "# Muestra las primeras filas del DataFrame para verificar la carga de datos\n",
    "print(dataframe.head())"
   ]
  },
  {
   "cell_type": "code",
   "execution_count": 28,
   "metadata": {},
   "outputs": [
    {
     "name": "stdout",
     "output_type": "stream",
     "text": [
      "Nombres de los datos:\n",
      "Empty DataFrame\n",
      "Columns: [sepal length (cm), sepal width (cm), petal length (cm), petal width (cm), target]\n",
      "Index: []\n"
     ]
    }
   ],
   "source": [
    "print(\"Nombres de los datos:\")\n",
    "print(dataframe.iloc[:0, ])"
   ]
  },
  {
   "cell_type": "code",
   "execution_count": 29,
   "metadata": {},
   "outputs": [
    {
     "name": "stdout",
     "output_type": "stream",
     "text": [
      "   sepal length (cm)  sepal width (cm)  petal length (cm)  petal width (cm)\n",
      "0                5.1               3.5                1.4               0.2\n",
      "1                4.9               3.0                1.4               0.2\n",
      "2                4.7               3.2                1.3               0.2\n",
      "3                4.6               3.1                1.5               0.2\n",
      "4                5.0               3.6                1.4               0.2\n",
      "(150, 4)\n"
     ]
    }
   ],
   "source": [
    "X = dataframe.drop(['target'], axis=1)\n",
    "print(X.head())\n",
    "print(X.shape)"
   ]
  },
  {
   "cell_type": "code",
   "execution_count": 30,
   "metadata": {},
   "outputs": [
    {
     "name": "stdout",
     "output_type": "stream",
     "text": [
      "0    Iris-setosa\n",
      "1    Iris-setosa\n",
      "2    Iris-setosa\n",
      "3    Iris-setosa\n",
      "4    Iris-setosa\n",
      "Name: target, dtype: object\n",
      "(150,)\n"
     ]
    }
   ],
   "source": [
    "y = dataframe['target']\n",
    "print(y.head())\n",
    "print(y.shape)"
   ]
  },
  {
   "cell_type": "code",
   "execution_count": 38,
   "metadata": {},
   "outputs": [
    {
     "name": "stdout",
     "output_type": "stream",
     "text": [
      "[0 0 0 0 0 0 0 0 0 0 0 0 0 0 0 0 0 0 0 0 0 0 0 0 0 0 0 0 0 0 0 0 0 0 0 0 0\n",
      " 0 0 0 0 0 0 0 0 0 0 0 0 0 1 1 1 1 1 1 1 1 1 1 1 1 1 1 1 1 1 1 1 1 1 1 1 1\n",
      " 1 1 1 1 1 1 1 1 1 1 1 1 1 1 1 1 1 1 1 1 1 1 1 1 1 1 2 2 2 2 2 2 2 2 2 2 2\n",
      " 2 2 2 2 2 2 2 2 2 2 2 2 2 2 2 2 2 2 2 2 2 2 2 2 2 2 2 2 2 2 2 2 2 2 2 2 2\n",
      " 2 2]\n"
     ]
    }
   ],
   "source": [
    "# Codificar las etiquetas\n",
    "y = LabelEncoder().fit_transform(y) #Asigna un valor numerico a cada etiqueta.\n",
    "#fit: Ajusta etiquetas \n",
    "#transform: Transforma etiquetas a valores numericos\n",
    "print(y)\n",
    "\n",
    "\n",
    "\n",
    "\n"
   ]
  },
  {
   "cell_type": "code",
   "execution_count": null,
   "metadata": {},
   "outputs": [],
   "source": [
    "# Dividir los datos en conjuntos de entrenamiento y prueba\n",
    "#(Datos dependientes, Datos independientes, Tamaño de la prueba(20%), Semilla aleatoria - a esciger)\n",
    "X_train, X_test, y_train, y_test = train_test_split(X, y, test_size=0.2, random_state=42)"
   ]
  },
  {
   "cell_type": "code",
   "execution_count": 33,
   "metadata": {},
   "outputs": [],
   "source": [
    "# Normalizar los datos\n",
    "scaler = StandardScaler()\n",
    "X_train = scaler.fit_transform(X_train)\n",
    "X_test = scaler.transform(X_test)"
   ]
  },
  {
   "cell_type": "code",
   "execution_count": 36,
   "metadata": {},
   "outputs": [
    {
     "name": "stdout",
     "output_type": "stream",
     "text": [
      "Epoch 1/50\n",
      "12/12 [==============================] - 0s 1ms/step - loss: 1.2745 - accuracy: 0.3750\n",
      "Epoch 2/50\n",
      "12/12 [==============================] - 0s 1ms/step - loss: 1.2237 - accuracy: 0.3750\n",
      "Epoch 3/50\n",
      "12/12 [==============================] - 0s 1ms/step - loss: 1.1774 - accuracy: 0.3750\n",
      "Epoch 4/50\n",
      "12/12 [==============================] - 0s 1ms/step - loss: 1.1307 - accuracy: 0.3750\n",
      "Epoch 5/50\n",
      "12/12 [==============================] - 0s 1ms/step - loss: 1.0860 - accuracy: 0.3833\n",
      "Epoch 6/50\n",
      "12/12 [==============================] - 0s 1ms/step - loss: 1.0451 - accuracy: 0.4000\n",
      "Epoch 7/50\n",
      "12/12 [==============================] - 0s 1ms/step - loss: 1.0032 - accuracy: 0.4250\n",
      "Epoch 8/50\n",
      "12/12 [==============================] - 0s 1ms/step - loss: 0.9625 - accuracy: 0.4500\n",
      "Epoch 9/50\n",
      "12/12 [==============================] - 0s 1ms/step - loss: 0.9224 - accuracy: 0.4667\n",
      "Epoch 10/50\n",
      "12/12 [==============================] - 0s 1ms/step - loss: 0.8843 - accuracy: 0.5583\n",
      "Epoch 11/50\n",
      "12/12 [==============================] - 0s 1ms/step - loss: 0.8445 - accuracy: 0.6833\n",
      "Epoch 12/50\n",
      "12/12 [==============================] - 0s 1ms/step - loss: 0.8042 - accuracy: 0.8083\n",
      "Epoch 13/50\n",
      "12/12 [==============================] - 0s 1ms/step - loss: 0.7676 - accuracy: 0.8333\n",
      "Epoch 14/50\n",
      "12/12 [==============================] - 0s 1ms/step - loss: 0.7306 - accuracy: 0.8667\n",
      "Epoch 15/50\n",
      "12/12 [==============================] - 0s 1ms/step - loss: 0.6955 - accuracy: 0.8833\n",
      "Epoch 16/50\n",
      "12/12 [==============================] - 0s 1ms/step - loss: 0.6618 - accuracy: 0.8833\n",
      "Epoch 17/50\n",
      "12/12 [==============================] - 0s 2ms/step - loss: 0.6313 - accuracy: 0.9083\n",
      "Epoch 18/50\n",
      "12/12 [==============================] - 0s 2ms/step - loss: 0.6031 - accuracy: 0.9083\n",
      "Epoch 19/50\n",
      "12/12 [==============================] - 0s 2ms/step - loss: 0.5758 - accuracy: 0.9000\n",
      "Epoch 20/50\n",
      "12/12 [==============================] - 0s 2ms/step - loss: 0.5517 - accuracy: 0.9000\n",
      "Epoch 21/50\n",
      "12/12 [==============================] - 0s 1ms/step - loss: 0.5288 - accuracy: 0.9000\n",
      "Epoch 22/50\n",
      "12/12 [==============================] - 0s 1ms/step - loss: 0.5093 - accuracy: 0.9000\n",
      "Epoch 23/50\n",
      "12/12 [==============================] - 0s 1ms/step - loss: 0.4908 - accuracy: 0.9000\n",
      "Epoch 24/50\n",
      "12/12 [==============================] - 0s 1ms/step - loss: 0.4739 - accuracy: 0.9000\n",
      "Epoch 25/50\n",
      "12/12 [==============================] - 0s 1ms/step - loss: 0.4586 - accuracy: 0.9000\n",
      "Epoch 26/50\n",
      "12/12 [==============================] - 0s 1ms/step - loss: 0.4441 - accuracy: 0.9000\n",
      "Epoch 27/50\n",
      "12/12 [==============================] - 0s 1ms/step - loss: 0.4314 - accuracy: 0.9000\n",
      "Epoch 28/50\n",
      "12/12 [==============================] - 0s 1ms/step - loss: 0.4200 - accuracy: 0.9000\n",
      "Epoch 29/50\n",
      "12/12 [==============================] - 0s 1ms/step - loss: 0.4090 - accuracy: 0.9000\n",
      "Epoch 30/50\n",
      "12/12 [==============================] - 0s 1ms/step - loss: 0.3990 - accuracy: 0.9000\n",
      "Epoch 31/50\n",
      "12/12 [==============================] - 0s 1ms/step - loss: 0.3898 - accuracy: 0.8917\n",
      "Epoch 32/50\n",
      "12/12 [==============================] - 0s 1ms/step - loss: 0.3811 - accuracy: 0.9000\n",
      "Epoch 33/50\n",
      "12/12 [==============================] - 0s 1ms/step - loss: 0.3734 - accuracy: 0.8917\n",
      "Epoch 34/50\n",
      "12/12 [==============================] - 0s 1ms/step - loss: 0.3657 - accuracy: 0.8917\n",
      "Epoch 35/50\n",
      "12/12 [==============================] - 0s 1ms/step - loss: 0.3585 - accuracy: 0.8917\n",
      "Epoch 36/50\n",
      "12/12 [==============================] - 0s 1ms/step - loss: 0.3519 - accuracy: 0.8917\n",
      "Epoch 37/50\n",
      "12/12 [==============================] - 0s 1ms/step - loss: 0.3458 - accuracy: 0.8917\n",
      "Epoch 38/50\n",
      "12/12 [==============================] - 0s 1ms/step - loss: 0.3399 - accuracy: 0.8917\n",
      "Epoch 39/50\n",
      "12/12 [==============================] - 0s 1ms/step - loss: 0.3343 - accuracy: 0.8917\n",
      "Epoch 40/50\n",
      "12/12 [==============================] - 0s 1ms/step - loss: 0.3292 - accuracy: 0.8917\n",
      "Epoch 41/50\n",
      "12/12 [==============================] - 0s 2ms/step - loss: 0.3240 - accuracy: 0.8917\n",
      "Epoch 42/50\n",
      "12/12 [==============================] - 0s 1ms/step - loss: 0.3192 - accuracy: 0.8917\n",
      "Epoch 43/50\n",
      "12/12 [==============================] - 0s 1ms/step - loss: 0.3145 - accuracy: 0.8917\n",
      "Epoch 44/50\n",
      "12/12 [==============================] - 0s 1ms/step - loss: 0.3100 - accuracy: 0.8917\n",
      "Epoch 45/50\n",
      "12/12 [==============================] - 0s 1ms/step - loss: 0.3060 - accuracy: 0.8917\n",
      "Epoch 46/50\n",
      "12/12 [==============================] - 0s 1ms/step - loss: 0.3016 - accuracy: 0.8917\n",
      "Epoch 47/50\n",
      "12/12 [==============================] - 0s 1ms/step - loss: 0.2978 - accuracy: 0.8917\n",
      "Epoch 48/50\n",
      "12/12 [==============================] - 0s 1ms/step - loss: 0.2939 - accuracy: 0.9083\n",
      "Epoch 49/50\n",
      "12/12 [==============================] - 0s 1ms/step - loss: 0.2902 - accuracy: 0.9083\n",
      "Epoch 50/50\n",
      "12/12 [==============================] - 0s 1ms/step - loss: 0.2872 - accuracy: 0.9083\n"
     ]
    },
    {
     "data": {
      "text/plain": [
       "<keras.src.callbacks.History at 0x25079b47550>"
      ]
     },
     "execution_count": 36,
     "metadata": {},
     "output_type": "execute_result"
    }
   ],
   "source": [
    "# Construir la red neuronal MLP\n",
    "model = Sequential()\n",
    "model.add(Dense(8, input_dim=4, activation='relu'))\n",
    "model.add(Dense(3, activation='softmax'))\n",
    "\n",
    "# Compilar el modelo\n",
    "model.compile(loss='sparse_categorical_crossentropy', optimizer='adam', metrics=['accuracy'])\n",
    "\n",
    "# Entrenar el modelo\n",
    "model.fit(X_train, y_train, epochs=50, batch_size=10, verbose=1)\n"
   ]
  },
  {
   "cell_type": "code",
   "execution_count": 37,
   "metadata": {},
   "outputs": [
    {
     "name": "stdout",
     "output_type": "stream",
     "text": [
      "WARNING:tensorflow:6 out of the last 7 calls to <function Model.make_predict_function.<locals>.predict_function at 0x0000025079AD1430> triggered tf.function retracing. Tracing is expensive and the excessive number of tracings could be due to (1) creating @tf.function repeatedly in a loop, (2) passing tensors with different shapes, (3) passing Python objects instead of tensors. For (1), please define your @tf.function outside of the loop. For (2), @tf.function has reduce_retracing=True option that can avoid unnecessary retracing. For (3), please refer to https://www.tensorflow.org/guide/function#controlling_retracing and https://www.tensorflow.org/api_docs/python/tf/function for  more details.\n",
      "1/1 [==============================] - 0s 52ms/step\n",
      "Precisión en el conjunto de prueba: 93.33%\n"
     ]
    }
   ],
   "source": [
    "\n",
    "# Evaluar el modelo en el conjunto de prueba\n",
    "y_pred = np.argmax(model.predict(X_test), axis=-1)\n",
    "accuracy = accuracy_score(y_test, y_pred)\n",
    "\n",
    "print(f'Precisión en el conjunto de prueba: {accuracy * 100:.2f}%')"
   ]
  }
 ],
 "metadata": {
  "kernelspec": {
   "display_name": "Python 3",
   "language": "python",
   "name": "python3"
  },
  "language_info": {
   "codemirror_mode": {
    "name": "ipython",
    "version": 3
   },
   "file_extension": ".py",
   "mimetype": "text/x-python",
   "name": "python",
   "nbconvert_exporter": "python",
   "pygments_lexer": "ipython3",
   "version": "3.9.13"
  }
 },
 "nbformat": 4,
 "nbformat_minor": 2
}
